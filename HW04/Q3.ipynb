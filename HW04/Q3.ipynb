{
 "cells": [
  {
   "cell_type": "code",
   "execution_count": 48,
   "id": "06450a98",
   "metadata": {},
   "outputs": [],
   "source": [
    "import cv2\n",
    "import numpy as np\n",
    "import matplotlib.pyplot as plt\n",
    "import scipy \n",
    "%matplotlib qt\n",
    "from scipy import ndimage, misc"
   ]
  },
  {
   "cell_type": "code",
   "execution_count": 49,
   "id": "4597a4ec",
   "metadata": {},
   "outputs": [
    {
     "data": {
      "text/plain": [
       "'1.7.1'"
      ]
     },
     "execution_count": 49,
     "metadata": {},
     "output_type": "execute_result"
    }
   ],
   "source": [
    "scipy.version.full_version"
   ]
  },
  {
   "cell_type": "code",
   "execution_count": 50,
   "id": "f95bae80",
   "metadata": {},
   "outputs": [
    {
     "data": {
      "text/plain": [
       "<matplotlib.image.AxesImage at 0x202972e8430>"
      ]
     },
     "execution_count": 50,
     "metadata": {},
     "output_type": "execute_result"
    }
   ],
   "source": [
    "img = cv2.imread(r'C:\\Users\\fateme\\Desktop\\inputs\\P3\\sonderkommando_photographs_280.png') \n",
    "img_copy = np.copy(img)\n",
    "img_copy = cv2.cvtColor(img_copy,cv2.COLOR_BGR2RGB)\n",
    "plt.imshow(img_copy)"
   ]
  },
  {
   "cell_type": "code",
   "execution_count": 51,
   "id": "e10a2b54",
   "metadata": {},
   "outputs": [
    {
     "data": {
      "text/plain": [
       "<matplotlib.image.AxesImage at 0x202972a4be0>"
      ]
     },
     "execution_count": 51,
     "metadata": {},
     "output_type": "execute_result"
    }
   ],
   "source": [
    "input_pts = np.float32([[133,134],[319,83],[120,515],[321,475]])\n",
    "output_pts = np.float32([[97,80],[318,80],[97,478],[318,478]])\n",
    "M = cv2.getPerspectiveTransform(input_pts,output_pts)\n",
    "out = cv2.warpPerspective(img,M,(img.shape[1], img.shape[0]),flags=cv2.INTER_LINEAR)\n",
    "plt.imshow(out)"
   ]
  },
  {
   "cell_type": "code",
   "execution_count": 52,
   "id": "43755271",
   "metadata": {},
   "outputs": [
    {
     "data": {
      "text/plain": [
       "array([[[ 17,  15,  15],\n",
       "        [ 18,  16,  16],\n",
       "        [ 18,  16,  16],\n",
       "        ...,\n",
       "        [  0,   0,   0],\n",
       "        [  0,   0,   0],\n",
       "        [  0,   0,   0]],\n",
       "\n",
       "       [[ 15,  13,  13],\n",
       "        [ 18,  16,  16],\n",
       "        [ 20,  18,  18],\n",
       "        ...,\n",
       "        [  0,   0,   0],\n",
       "        [  0,   0,   0],\n",
       "        [  0,   0,   0]],\n",
       "\n",
       "       [[ 15,  13,  13],\n",
       "        [ 17,  15,  15],\n",
       "        [ 19,  17,  17],\n",
       "        ...,\n",
       "        [  0,   0,   0],\n",
       "        [  0,   0,   0],\n",
       "        [  0,   0,   0]],\n",
       "\n",
       "       ...,\n",
       "\n",
       "       [[  0,   0,   0],\n",
       "        [  0,   0,   0],\n",
       "        [  0,   0,   0],\n",
       "        ...,\n",
       "        [240, 250, 250],\n",
       "        [203, 212, 212],\n",
       "        [  0,   0,   0]],\n",
       "\n",
       "       [[  0,   0,   0],\n",
       "        [  0,   0,   0],\n",
       "        [  0,   0,   0],\n",
       "        ...,\n",
       "        [242, 252, 252],\n",
       "        [196, 204, 204],\n",
       "        [  0,   0,   0]],\n",
       "\n",
       "       [[  0,   0,   0],\n",
       "        [  0,   0,   0],\n",
       "        [  0,   0,   0],\n",
       "        ...,\n",
       "        [247, 255, 255],\n",
       "        [193, 199, 199],\n",
       "        [  0,   0,   0]]], dtype=uint8)"
      ]
     },
     "execution_count": 52,
     "metadata": {},
     "output_type": "execute_result"
    }
   ],
   "source": [
    "out"
   ]
  },
  {
   "cell_type": "code",
   "execution_count": 53,
   "id": "7c74fc20",
   "metadata": {},
   "outputs": [
    {
     "data": {
      "text/plain": [
       "(<AxesSubplot:title={'center':'Output'}>,\n",
       " <matplotlib.image.AxesImage at 0x2029729feb0>,\n",
       " Text(0.5, 1.0, 'Output'))"
      ]
     },
     "execution_count": 53,
     "metadata": {},
     "output_type": "execute_result"
    }
   ],
   "source": [
    "res = cv2.resize(out,None,fx=10, fy=10, interpolation = cv2.INTER_CUBIC)\n",
    "plt.subplot(121),plt.imshow(img),plt.title('Input')\n",
    "plt.subplot(122),plt.imshow(res),plt.title('Output')"
   ]
  },
  {
   "cell_type": "code",
   "execution_count": 54,
   "id": "59e8526d",
   "metadata": {},
   "outputs": [
    {
     "data": {
      "text/plain": [
       "(550, 419, 3)"
      ]
     },
     "execution_count": 54,
     "metadata": {},
     "output_type": "execute_result"
    }
   ],
   "source": [
    "out.shape"
   ]
  },
  {
   "cell_type": "code",
   "execution_count": 55,
   "id": "9a85d719",
   "metadata": {},
   "outputs": [
    {
     "data": {
      "text/plain": [
       "(<AxesSubplot:title={'center':'output'}>,\n",
       " <matplotlib.image.AxesImage at 0x2029f2d8e50>,\n",
       " Text(0.5, 1.0, 'output'))"
      ]
     },
     "execution_count": 55,
     "metadata": {},
     "output_type": "execute_result"
    }
   ],
   "source": [
    "rows,cols,r = out.shape\n",
    "M = cv2.getRotationMatrix2D((cols/2,rows/2),-1,2)\n",
    "dst = cv2.warpAffine(out,M,(cols,rows))\n",
    "plt.subplot(121),plt.imshow(dst),plt.title('output')"
   ]
  },
  {
   "cell_type": "code",
   "execution_count": 56,
   "id": "e18d6887",
   "metadata": {},
   "outputs": [
    {
     "data": {
      "text/plain": [
       "(<AxesSubplot:title={'center':'output'}>,\n",
       " <matplotlib.image.AxesImage at 0x20299e26c40>,\n",
       " Text(0.5, 1.0, 'output'))"
      ]
     },
     "execution_count": 56,
     "metadata": {},
     "output_type": "execute_result"
    }
   ],
   "source": [
    "bilateral = cv2.bilateralFilter(dst, 10, 25, 25)\n",
    "plt.subplot(121),plt.imshow(bilateral),plt.title('output')"
   ]
  },
  {
   "cell_type": "code",
   "execution_count": 57,
   "id": "004d942e",
   "metadata": {},
   "outputs": [
    {
     "ename": "ModuleNotFoundError",
     "evalue": "No module named 'scipy.misc.pilutil'",
     "output_type": "error",
     "traceback": [
      "\u001b[1;31m---------------------------------------------------------------------------\u001b[0m",
      "\u001b[1;31mModuleNotFoundError\u001b[0m                       Traceback (most recent call last)",
      "\u001b[1;32m~\\AppData\\Local\\Temp/ipykernel_13152/68511416.py\u001b[0m in \u001b[0;36m<module>\u001b[1;34m\u001b[0m\n\u001b[0;32m      1\u001b[0m \u001b[1;32mimport\u001b[0m \u001b[0mscipy\u001b[0m\u001b[1;33m.\u001b[0m\u001b[0mmisc\u001b[0m\u001b[1;33m\u001b[0m\u001b[1;33m\u001b[0m\u001b[0m\n\u001b[0;32m      2\u001b[0m \u001b[1;32mfrom\u001b[0m \u001b[0mscipy\u001b[0m \u001b[1;32mimport\u001b[0m \u001b[0mmisc\u001b[0m\u001b[1;33m\u001b[0m\u001b[1;33m\u001b[0m\u001b[0m\n\u001b[1;32m----> 3\u001b[1;33m \u001b[1;32mfrom\u001b[0m \u001b[0mscipy\u001b[0m\u001b[1;33m.\u001b[0m\u001b[0mmisc\u001b[0m\u001b[1;33m.\u001b[0m\u001b[0mpilutil\u001b[0m \u001b[1;32mimport\u001b[0m \u001b[0mImage\u001b[0m\u001b[1;33m\u001b[0m\u001b[1;33m\u001b[0m\u001b[0m\n\u001b[0m\u001b[0;32m      4\u001b[0m \u001b[1;33m\u001b[0m\u001b[0m\n\u001b[0;32m      5\u001b[0m \u001b[0mim_array\u001b[0m \u001b[1;33m=\u001b[0m \u001b[0mscipy\u001b[0m\u001b[1;33m.\u001b[0m\u001b[0mmisc\u001b[0m\u001b[1;33m.\u001b[0m\u001b[0mfromimage\u001b[0m\u001b[1;33m(\u001b[0m\u001b[0mdst\u001b[0m\u001b[1;33m)\u001b[0m\u001b[1;33m\u001b[0m\u001b[1;33m\u001b[0m\u001b[0m\n",
      "\u001b[1;31mModuleNotFoundError\u001b[0m: No module named 'scipy.misc.pilutil'"
     ]
    }
   ],
   "source": [
    "import scipy.misc\n",
    "from scipy import misc\n",
    "from scipy.misc.pilutil import Image\n",
    " \n",
    "im_array = scipy.misc.fromimage(dst)\n",
    "im_inverse = 255 - im_array\n",
    "im_result = scipy.misc.toimage(im_inverse)\n",
    "misc.imsave('result.tiff',im_result)"
   ]
  },
  {
   "cell_type": "code",
   "execution_count": null,
   "id": "3572f4b3",
   "metadata": {},
   "outputs": [],
   "source": [
    "def guidedfilter(p, I, r, e, same_shape=True):\n",
    "\n",
    "    if not(same_shape):\n",
    "        I = np.repeat(I[:, :, np.newaxis], 3, axis=2)\n",
    "\n",
    "    r = 2 * r - 1\n",
    "    mean_I = cv2.blur(I,(r,r))\n",
    "    mean_p = cv2.blur(p,(r,r))\n",
    "    corr_I = cv2.blur(np.multiply(I,I),(r,r))\n",
    "    corr_p = cv2.blur(np.multiply(I,p),(r,r))\n",
    "    var_I = corr_I - np.multiply(mean_I,mean_I)\n",
    "    cov_Ip = corr_p - np.multiply(mean_I,mean_p)\n",
    "    a = np.divide(cov_Ip,(var_I+e))\n",
    "    b = mean_p - np.multiply(a, mean_I)\n",
    "    mean_a = cv2.blur(a,(r,r))\n",
    "    mean_b = cv2.blur(b,(r,r))\n",
    "    q = np.multiply(mean_a,I) + mean_b\n",
    "    q = np.clip(q, 0, 1)\n",
    "    return q"
   ]
  },
  {
   "cell_type": "code",
   "execution_count": null,
   "id": "8546250d",
   "metadata": {},
   "outputs": [],
   "source": [
    "img1 = cv2.cvtColor(dst, cv2.COLOR_BGR2GRAY)/255\n",
    "guided_img = guidedfilter(img1,img1,2,0.02)\n",
    "plt.imshow(guided_img, cmap='gray')\n",
    "plt.show()"
   ]
  },
  {
   "cell_type": "code",
   "execution_count": null,
   "id": "7dfde1a2",
   "metadata": {},
   "outputs": [],
   "source": [
    "dst"
   ]
  },
  {
   "cell_type": "code",
   "execution_count": null,
   "id": "a9755831",
   "metadata": {},
   "outputs": [],
   "source": [
    "image = cv2.resize(dst, (2000, 2000))\n",
    "image_bw = cv2.cvtColor(image, cv2.COLOR_RGB2GRAY)\n",
    "clahe = cv2.createCLAHE(clipLimit = 2)\n",
    "final_img = clahe.apply(image_bw) + 10\n",
    "_, ordinary_img = cv2.threshold(image_bw, 155, 255, cv2.THRESH_BINARY)\n",
    "plt.figure(figsize=(12, 15))\n",
    "plt.imshow(final_img,cmap=\"gray\")"
   ]
  },
  {
   "cell_type": "code",
   "execution_count": null,
   "id": "88fe8e20",
   "metadata": {},
   "outputs": [],
   "source": [
    "def wgif(p, I, r, r2, e, same_shape=True):\n",
    "    if not(same_shape):\n",
    "        I = np.repeat(I[:, :, np.newaxis], 3, axis=2)\n",
    "    r = 2 * r - 1\n",
    "    r2 = 2 * r2 - 1\n",
    "    mean_I = cv2.blur(I,(r,r))\n",
    "    mean_I2 = cv2.blur(I,(r2,r2))\n",
    "    mean_p = cv2.blur(p,(r,r))\n",
    "    corr_I = cv2.blur(np.multiply(I,I),(r,r))\n",
    "    corr_I2 = cv2.blur(np.multiply(I,I),(r2,r2))\n",
    "    corr_p = cv2.blur(np.multiply(I,p),(r,r))\n",
    "    var_I = corr_I - np.multiply(mean_I,mean_I)\n",
    "    var_I2 = corr_I2 - np.multiply(mean_I2, mean_I2)\n",
    "    cov_Ip = corr_p - np.multiply(mean_I,mean_p)\n",
    "    landa = (0.001*1)**2\n",
    "    si = (1 / (p.shape[0] * p.shape[1]) ) * (var_I2 + landa) * np.sum(np.reciprocal(var_I2+ landa))\n",
    "    a = np.divide(cov_Ip,(var_I+e/si))\n",
    "    b = mean_p - np.multiply(a, mean_I)\n",
    "    mean_a = cv2.blur(a,(r,r))\n",
    "    mean_b = cv2.blur(b,(r,r))\n",
    "    q = np.multiply(mean_a,I) + mean_b\n",
    "    return q\n"
   ]
  },
  {
   "cell_type": "code",
   "execution_count": null,
   "id": "2bcbdd64",
   "metadata": {},
   "outputs": [],
   "source": [
    "def wgif(p, I, r, r2, e, same_shape=True):\n",
    "    if not(same_shape):\n",
    "        I = np.repeat(I[:, :, np.newaxis], 3, axis=2)\n",
    "    r = 2 * r - 1\n",
    "    r2 = 2 * r2 - 1\n",
    "    mean_I = cv2.blur(I,(r,r))\n",
    "    mean_I2 = cv2.blur(I,(r2,r2))\n",
    "    mean_p = cv2.blur(p,(r,r))\n",
    "    corr_I = cv2.blur(np.multiply(I,I),(r,r))\n",
    "    corr_I2 = cv2.blur(np.multiply(I,I),(r2,r2))\n",
    "    corr_p = cv2.blur(np.multiply(I,p),(r,r))\n",
    "    var_I = corr_I - np.multiply(mean_I,mean_I)\n",
    "    var_I2 = corr_I2 - np.multiply(mean_I2, mean_I2)\n",
    "    cov_Ip = corr_p - np.multiply(mean_I,mean_p)\n",
    "    landa = (0.001*1)**2\n",
    "    si = (1 / (p.shape[0] * p.shape[1]) ) * (var_I2 + landa) * np.sum(np.reciprocal(var_I2+ landa))\n",
    "    a = np.divide(cov_Ip,(var_I+e/si))\n",
    "    b = mean_p - np.multiply(a, mean_I)\n",
    "    mean_a = cv2.blur(a,(r,r))\n",
    "    mean_b = cv2.blur(b,(r,r))\n",
    "    q = np.multiply(mean_a,I) + mean_b\n",
    "    return q\n"
   ]
  },
  {
   "cell_type": "code",
   "execution_count": null,
   "id": "3ad3f88e",
   "metadata": {},
   "outputs": [],
   "source": [
    "import matplotlib.pyplot as plt\n",
    "import numpy as np\n",
    "import cv2\n",
    "from scipy import ndimage, misc"
   ]
  },
  {
   "cell_type": "code",
   "execution_count": 60,
   "id": "90c609d9",
   "metadata": {},
   "outputs": [],
   "source": [
    "img = cv2.cvtColor(dst, cv2.COLOR_BGR2GRAY)\n",
    "img = cv2.equalizeHist(img)/255\n",
    "img = wgif(img, img,5,5, 0.1 ** 2)\n",
    "plt.imshow(img,cmap=\"gray\")\n",
    "plt.show()"
   ]
  },
  {
   "cell_type": "code",
   "execution_count": 58,
   "id": "cf6d9cc8",
   "metadata": {},
   "outputs": [
    {
     "data": {
      "text/plain": [
       "<matplotlib.image.AxesImage at 0x202a0635b80>"
      ]
     },
     "execution_count": 58,
     "metadata": {},
     "output_type": "execute_result"
    }
   ],
   "source": [
    "plt.imshow(img1,cmap=\"gray\")"
   ]
  },
  {
   "cell_type": "code",
   "execution_count": 59,
   "id": "96ce8099",
   "metadata": {},
   "outputs": [
    {
     "data": {
      "text/plain": [
       "<matplotlib.image.AxesImage at 0x202a1d6d130>"
      ]
     },
     "execution_count": 59,
     "metadata": {},
     "output_type": "execute_result"
    }
   ],
   "source": [
    "plt.imshow(img2,cmap=\"gray\")"
   ]
  },
  {
   "cell_type": "code",
   "execution_count": null,
   "id": "005271d2",
   "metadata": {},
   "outputs": [],
   "source": [
    "img1.shape"
   ]
  },
  {
   "cell_type": "code",
   "execution_count": null,
   "id": "3e5adc07",
   "metadata": {},
   "outputs": [],
   "source": []
  }
 ],
 "metadata": {
  "kernelspec": {
   "display_name": "Python 3 (ipykernel)",
   "language": "python",
   "name": "python3"
  },
  "language_info": {
   "codemirror_mode": {
    "name": "ipython",
    "version": 3
   },
   "file_extension": ".py",
   "mimetype": "text/x-python",
   "name": "python",
   "nbconvert_exporter": "python",
   "pygments_lexer": "ipython3",
   "version": "3.9.7"
  }
 },
 "nbformat": 4,
 "nbformat_minor": 5
}
