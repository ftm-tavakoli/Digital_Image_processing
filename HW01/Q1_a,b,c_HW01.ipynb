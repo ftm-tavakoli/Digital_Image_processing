{
 "cells": [
  {
   "cell_type": "code",
   "execution_count": 115,
   "id": "b2302791",
   "metadata": {},
   "outputs": [],
   "source": [
    "import sys\n",
    "from PIL import Image\n",
    "from math import log10, sqrt\n",
    "import cv2\n",
    "import numpy as np\n",
    "import math\n",
    "import imageio"
   ]
  },
  {
   "cell_type": "markdown",
   "id": "cf345ced",
   "metadata": {},
   "source": [
    "# A"
   ]
  },
  {
   "cell_type": "code",
   "execution_count": 41,
   "id": "e11a1b8e",
   "metadata": {},
   "outputs": [],
   "source": [
    "def immirror(img) :\n",
    "    width  = img.size[0]\n",
    "    height = img.size[1]\n",
    "    for y in range(height):\n",
    "        for x in range(width//2):\n",
    "            left = img.getpixel((x, y))\n",
    "            right = img.getpixel((width - 1 - x, y))\n",
    "            img.putpixel((width - 1 - x, y), left)\n",
    "            img.putpixel((x, y), right)\n",
    "    return img"
   ]
  },
  {
   "cell_type": "code",
   "execution_count": 116,
   "id": "ec7e36f3",
   "metadata": {},
   "outputs": [],
   "source": [
    "img = Image.open(r'erling_haaland.png')\n",
    "immirror(img)\n",
    "img.save('img_mirror.png')"
   ]
  },
  {
   "cell_type": "markdown",
   "id": "8844fb2a",
   "metadata": {},
   "source": [
    "# B"
   ]
  },
  {
   "cell_type": "code",
   "execution_count": 111,
   "id": "21420a7d",
   "metadata": {},
   "outputs": [],
   "source": [
    "img = imageio.imread(\"zlatan_ibrahimovic.png\")\n",
    "height, width, channel = img.shape\n",
    "width_cutoff = width // 2\n",
    "R = img[:, :width_cutoff]\n",
    "L = img[:, width_cutoff:]\n",
    "imageio.imwrite(\"cristiano_ronaldor.png\", R)\n",
    "imageio.imwrite(\"cristiano_ronaldol.png\", L)"
   ]
  },
  {
   "cell_type": "code",
   "execution_count": 117,
   "id": "82f90a48",
   "metadata": {},
   "outputs": [],
   "source": [
    "image1 = Image.open(\"cristiano_ronaldor.png\")\n",
    "immirror(image1)\n",
    "image1.save(\"cristiano_ronaldor_i.png\")\n",
    "image2 = Image.open(\"cristiano_ronaldol.png\")\n",
    "immirror(image2)\n",
    "image2.save(\"cristiano_ronaldol_i.png\")"
   ]
  },
  {
   "cell_type": "markdown",
   "id": "1a046814",
   "metadata": {},
   "source": [
    "# C"
   ]
  },
  {
   "cell_type": "code",
   "execution_count": 108,
   "id": "f7390775",
   "metadata": {},
   "outputs": [],
   "source": [
    "def get_concat_h_blank(im1, im2, color=(0, 0, 0)):\n",
    "    dst = Image.new('RGB', (im1.width + im2.width, max(im1.height, im2.height)), color)\n",
    "    dst.paste(im1, (0, 0))\n",
    "    dst.paste(im2, (im1.width, 0))\n",
    "    return dst\n",
    "\n",
    "\n",
    "\n",
    "im1 = Image.open(\"cristiano_ronaldor.png\")\n",
    "im2 = Image.open(\"cristiano_ronaldor_i.png\")\n",
    "get_concat_h_blank(im1, im2).save(\"cristiano_ronaldo1_2.png\")\n",
    "\n",
    "im3 = Image.open(\"cristiano_ronaldol.png\")\n",
    "im4 = Image.open(\"cristiano_ronaldol_i.png\")\n",
    "get_concat_h_blank(im4, im3).save(\"cristiano_ronaldo2_2.png\")\n",
    "\n",
    "\n",
    "get_concat_h_blank(im4, im2).save(\"cristiano_ronaldo3_2.png\")   \n",
    "    "
   ]
  },
  {
   "cell_type": "code",
   "execution_count": 118,
   "id": "76806b29",
   "metadata": {},
   "outputs": [
    {
     "name": "stdout",
     "output_type": "stream",
     "text": [
      "PSNR value is 0.6845571030618441 dB\n"
     ]
    }
   ],
   "source": [
    "def impsnr(img, ref):\n",
    "    mse = np.mean((img - ref) ** 2)\n",
    "    if(mse == 0): \n",
    "        return 100\n",
    "    max_pixel = 255.0\n",
    "    psnr = 20 * log10(max_pixel / sqrt(mse))\n",
    "    return psnr\n",
    "\n",
    "def main():\n",
    "    original = cv2.imread(\"original_image.png\")\n",
    "    compressed = cv2.imread(\"compressed_image.png\", 1)\n",
    "    value = PSNR(original, compressed)\n",
    "    print(f\"PSNR value is {value} dB\")\n",
    "\n",
    "if __name__ == \"__main__\":\n",
    "    main()\n"
   ]
  },
  {
   "cell_type": "code",
   "execution_count": 72,
   "id": "239147e3",
   "metadata": {},
   "outputs": [],
   "source": [
    "def impsnr(img, ref):\n",
    "    img1 = img.astype(np.float64)\n",
    "    img2 = ref.astype(np.float64)\n",
    "    mse = np.mean((img - ref)**2)\n",
    "    if mse == 0:\n",
    "        return float('inf')\n",
    "    return 20 * math.log10(255.0 / math.sqrt(mse))\n"
   ]
  },
  {
   "cell_type": "code",
   "execution_count": 113,
   "id": "5fe08415",
   "metadata": {},
   "outputs": [
    {
     "name": "stdout",
     "output_type": "stream",
     "text": [
      "zlatan_ibrahimovic:\n",
      "PSNR value  for Right, Right_inverse  is 31.515931261656817 dB\n",
      "PSNR value  for left, left_inverse is 31.431193755917064 dB\n",
      "PSNR value  for Right_inverse, Left_inverse is 31.53356364843933 dB\n"
     ]
    }
   ],
   "source": [
    "print('zlatan_ibrahimovic:')\n",
    "ref = cv2.imread(\"cristiano_ronaldo.png\")\n",
    "img = cv2.imread(\"cristiano_ronaldo1_2.png\")\n",
    "resized_image = cv2.resize(img, (533, 605)) \n",
    "value = impsnr(resized_image, ref)\n",
    "print(f\"PSNR value  for Right, Right_inverse  is {value} dB\")\n",
    "\n",
    "img = cv2.imread(\"cristiano_ronaldo2_2.png\")\n",
    "resized_image = cv2.resize(img, (533, 605)) \n",
    "value = impsnr(resized_image, ref)\n",
    "print(f\"PSNR value  for left, left_inverse is {value} dB\")\n",
    "\n",
    "img = cv2.imread(\"cristiano_ronaldo3_2.png\")\n",
    "resized_image = cv2.resize(img, (533, 605)) \n",
    "value = impsnr(resized_image, ref)\n",
    "print(f\"PSNR value  for Right_inverse, Left_inverse is {value} dB\")"
   ]
  },
  {
   "cell_type": "code",
   "execution_count": 67,
   "id": "4693499b",
   "metadata": {},
   "outputs": [],
   "source": [
    "def ssim(img1, img2):\n",
    "    C1 = (0.01 * 255)**2\n",
    "    C2 = (0.03 * 255)**2\n",
    "    img1 = img1.astype(np.float64)\n",
    "    img2 = img2.astype(np.float64)\n",
    "    kernel = cv2.getGaussianKernel(11, 1.5)\n",
    "    window = np.outer(kernel, kernel.transpose())\n",
    "    mu1 = cv2.filter2D(img1, -1, window)[5:-5, 5:-5]  # valid\n",
    "    mu2 = cv2.filter2D(img2, -1, window)[5:-5, 5:-5]\n",
    "    mu1_sq = mu1**2\n",
    "    mu2_sq = mu2**2\n",
    "    mu1_mu2 = mu1 * mu2\n",
    "    sigma1_sq = cv2.filter2D(img1**2, -1, window)[5:-5, 5:-5] - mu1_sq\n",
    "    sigma2_sq = cv2.filter2D(img2**2, -1, window)[5:-5, 5:-5] - mu2_sq\n",
    "    sigma12 = cv2.filter2D(img1 * img2, -1, window)[5:-5, 5:-5] - mu1_mu2\n",
    "    ssim_map = ((2 * mu1_mu2 + C1) * (2 * sigma12 + C2)) / ((mu1_sq + mu2_sq + C1) *\n",
    "                                                            (sigma1_sq + sigma2_sq + C2))\n",
    "    return ssim_map.mean()\n",
    "\n",
    "\n",
    "def  imssim(img, ref):\n",
    "    if not img.shape == ref.shape:\n",
    "        raise ValueError('Input images must have the same dimensions.')\n",
    "    if img.ndim == 2:\n",
    "        return ssim(img, ref)\n",
    "    elif img.ndim == 3:\n",
    "        if img.shape[2] == 3:\n",
    "            ssims = []\n",
    "            for i in range(3):\n",
    "                ssims.append(ssim(img, ref))\n",
    "            return np.array(ssims).mean()\n",
    "        elif img.shape[2] == 1:\n",
    "            return ssim(np.squeeze(img), np.squeeze(ref))\n",
    "    else:\n",
    "        raise ValueError('Wrong input image dimensions.')\n"
   ]
  },
  {
   "cell_type": "code",
   "execution_count": 114,
   "id": "86869d95",
   "metadata": {},
   "outputs": [
    {
     "name": "stdout",
     "output_type": "stream",
     "text": [
      "zlatan_ibrahimovic:\n",
      "immsim value  for Right, Right_inverse  is 0.6888398758672264 dB\n",
      "immsim value  for Left, Left_inverse is 0.6825249353588041 dB\n",
      "immsim value  for Right_inverse, Left_inverse is 0.6845571030618441\n"
     ]
    }
   ],
   "source": [
    "print('zlatan_ibrahimovic:')\n",
    "ref = cv2.imread(\"cristiano_ronaldo.png\")\n",
    "img = cv2.imread(\"cristiano_ronaldo1_2.png\")\n",
    "resized_image = cv2.resize(img, (533, 605)) \n",
    "value = imssim(resized_image, ref)\n",
    "print(f\"immsim value  for Right, Right_inverse  is {value} dB\")\n",
    "\n",
    "img = cv2.imread(\"cristiano_ronaldo2_2.png\")\n",
    "resized_image = cv2.resize(img, (533, 605)) \n",
    "value = imssim(resized_image, ref)\n",
    "print(f\"immsim value  for Left, Left_inverse is {value} dB\")\n",
    "\n",
    "img = cv2.imread(\"cristiano_ronaldo3_2.png\")\n",
    "resized_image = cv2.resize(img, (533, 605)) \n",
    "value = imssim(resized_image, ref)\n",
    "print(f\"immsim value  for Right_inverse, Left_inverse is {value}\")"
   ]
  },
  {
   "cell_type": "code",
   "execution_count": null,
   "id": "1a827021",
   "metadata": {},
   "outputs": [],
   "source": []
  }
 ],
 "metadata": {
  "kernelspec": {
   "display_name": "Python 3 (ipykernel)",
   "language": "python",
   "name": "python3"
  },
  "language_info": {
   "codemirror_mode": {
    "name": "ipython",
    "version": 3
   },
   "file_extension": ".py",
   "mimetype": "text/x-python",
   "name": "python",
   "nbconvert_exporter": "python",
   "pygments_lexer": "ipython3",
   "version": "3.9.7"
  }
 },
 "nbformat": 4,
 "nbformat_minor": 5
}
